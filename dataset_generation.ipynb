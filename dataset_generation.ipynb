{
 "cells": [
  {
   "cell_type": "markdown",
   "metadata": {
    "collapsed": false,
    "jupyter": {
     "outputs_hidden": false
    }
   },
   "source": [
    "## Ideas\n",
    "\n",
    "#### Starting Simple\n",
    "Start w/ simple dataset of permutations of X is type A(and B) for ALL pokemon. Create a train/val/test set of questions (and permutations) like: 'what type is Pokemon P?\" and include only train pokemon in the dataset. Be sure to test the accuracy of the model first (maybe also have a Phi-3 LLM compare the generations to the ground truth? Or maybe just make outlines generate the type?\n",
    "\n",
    "Couple of params you can change here already:\n",
    "- number of permutations of X is type A.\n",
    "- number of permutations of what type is Pokemon P (basically how many ways do we word the question)\n",
    "- lora rank and alpha (maybe use the continuous fine-tuning NB/params)\n",
    "- try to achieve grokking w/ SUPER OVERFITTING and a massive ratio of questions to facts (maybe try adding grokfast to this? https://github.com/ironjr/grokfast)\n",
    "\n",
    "#### Next Steps\n",
    "\n",
    "Try more facts (such as pokemon stats, ability, etc)\n",
    "Try grouping stuff (pokemons A,B,C, and D have type X, but Pokemon A is also type B, etc), also group by stats (every pokemon with 100 speed is a,b,c, ...)\n",
    "\n",
    "Reverse training nurses the reversal curse (what pokemon have 100 speed? What pokemon are water and dragon type?)\n",
    "\n",
    "OOOH! Reveral curse: bulbasaur evolves into ivysaur, ivysaur evolves into venusaur. What pokemon does bulbasaur evolve into? (one way) What pokemon evolves into ivysaur? (reverse)\n",
    "\n",
    "Also, what happens if I add, like, interference (i.e. slight typos, random capitalization for pokemon, random spaces)?\n",
    "\n",
    "Another interesting question (reversal curse?) What Pokemon is the same type as Marshtom?"
   ]
  },
  {
   "cell_type": "code",
   "execution_count": 1,
   "metadata": {
    "ExecuteTime": {
     "end_time": "2024-06-29T17:04:21.559231401Z",
     "start_time": "2024-06-29T17:04:21.128523947Z"
    },
    "collapsed": false,
    "jupyter": {
     "outputs_hidden": false
    }
   },
   "outputs": [],
   "source": [
    "import os\n",
    "import json\n",
    "\n",
    "import numpy as np\n",
    "from datasets import Dataset\n",
    "\n",
    "from typing import List, Tuple\n",
    "\n",
    "DATASET_DIR = 'pokemon_data'\n",
    "POKEDEX_FILE = os.path.join(DATASET_DIR, 'pokedex.json')\n",
    "\n",
    "TYPE_SENTENCES_PER_POKEMON = 10 # this essentially increases the # of data points 10-fold\n",
    "QUESTIONS_PER_POKEMON = 5 # we'll essentially see every fact 2x for every unique question we're asked about it"
   ]
  },
  {
   "cell_type": "code",
   "execution_count": 2,
   "metadata": {
    "ExecuteTime": {
     "end_time": "2024-06-29T17:04:21.572808294Z",
     "start_time": "2024-06-29T17:04:21.561273026Z"
    },
    "collapsed": false,
    "jupyter": {
     "outputs_hidden": false
    }
   },
   "outputs": [],
   "source": [
    "with open(POKEDEX_FILE, 'r', encoding='utf-8') as f:\n",
    "    pokedex = json.load(f)"
   ]
  },
  {
   "cell_type": "code",
   "execution_count": 3,
   "metadata": {
    "ExecuteTime": {
     "end_time": "2024-06-29T17:04:21.577988565Z",
     "start_time": "2024-06-29T17:04:21.575363195Z"
    },
    "collapsed": false,
    "jupyter": {
     "outputs_hidden": false
    }
   },
   "outputs": [],
   "source": [
    "TYPE_TEMPLATES = [\n",
    "    '{pokemon} is a {type} Pokemon',\n",
    "    'In the Pokemon games, {pokemon} has the type {type}',\n",
    "    \"pokemon name: {pokemon}, type: {type}\",\n",
    "    \"Did you know? {pokemon} is a Pokemon of {type} type!\",\n",
    "    \"The Pokemon known as {pokemon} belongs to the {type} type.\",\n",
    "    \"In the world of Pokemon, {pokemon} is a {type} type creature\",\n",
    "    \"{pokemon} is a representative of the {type} type\",\n",
    "    \"The type of the Pokemon {pokemon} is {type}.\",\n",
    "    \"In it's pokedex entry, {pokemon} is listed as a {type}\",\n",
    "    \"{pokemon} is a pokemon whose type is {type}\",\n",
    "    \"{pokemon}'s type is {type}\",\n",
    "    \"Explore the world with {pokemon}, your {type} companion!\",\n",
    "    \"{pokemon} is known as a {type} type Pokemon\",\n",
    "    \"The {pokemon} is an example of a {type} type Pokemon.\",\n",
    "    \"Pokedex data states {pokemon} as a {type}-type Pokemon!\",\n",
    "    \"{pokemon} has the typing {type}\"\n",
    "]\n",
    "\n",
    "# these are a few ways to take a dual type pokemon and replace {type} with two types\n",
    "DUAL_TYPE_FORMATS = [\n",
    "    '{type_1}/{type_2}',\n",
    "    '{type_1} and {type_2}',\n",
    "    '{type_1}, {type_2}'\n",
    "]\n",
    "\n",
    "# to add diversity, we'll also explicitly spell out some dual-type pokemon\n",
    "DUAL_TYPE_TEMPLATES = [\n",
    "     \"The Pokemon {pokemon} is of {type_1} and {type_2} types.\",\n",
    "    \"{pokemon}'s first type is {type_1} and their second type is {type_2}.\",\n",
    "    \"{pokemon} is a dual {type_1}/{type_2} Pokemon\",\n",
    "    \"The Pokedex lists {pokemon} with the distinct types of {type_1} and {type_2}.\",\n",
    "    \"{pokemon} has a type combination of {type_1} and {type_2}\",\n",
    "    \"As a pokemon with two types, {pokemon}'s 1st type is {type_1} and it's 2nd type is {type_2}\",\n",
    "    \"{pokemon}'s primary typing is {type_1} and it's secondary typing is {type_2}\",\n",
    "    \"A dual-type pokemon, {pokemon} possesses both the {type_1} type and the {type_2} type!\"\n",
    "]\n",
    "\n",
    "QUESTION_TEMPLATES = [\n",
    "    \"What is {pokemon}'s type?\",\n",
    "    \"What type of pokemon is {pokemon}?\",\n",
    "    \"{pokemon}'s pokedex entry shows it as what type?\",\n",
    "    \"In the Pokemon games, what is {pokemon}'s type?\",\n",
    "    \"What is the type of {pokemon}?\",\n",
    "    \"Can you tell me the type of {pokemon} in the Pokemon universe?\",\n",
    "    \"Please explain, what type is {pokemon}?\",\n",
    "    \"What type or types does {pokemon} have?\",\n",
    "]\n",
    "\n",
    "ANSWER_TEMPLATES = [\n",
    "    \"The pokedex says it's a {type} pokemon\",\n",
    "    \"It is a {type} Pokemon\",\n",
    "    \"{pokemon} has the type {type}\",\n",
    "    \"{pokemon}'s type is {type}\",\n",
    "    \"{pokemon} is a {type} pokemon\"\n",
    "    \"{type}-type.\"\n",
    "]\n",
    "\n",
    "DUAL_TYPE_ANSWER_TEMPLATES = [\n",
    "    \"It has two types, {type_1} and {type_2}\",\n",
    "    \"{pokemon}'s primary type is {type_1} and it's second type is {type_2}\",\n",
    "    \"it's a dual {type_1}/{type_2} pokemon.\",\n",
    "    \"It is a {type_1} and {type_2} type Pokemon.\",\n",
    "    \"{pokemon}'s types are {type_1} and {type_2}.\"\n",
    "]\n"
   ]
  },
  {
   "cell_type": "markdown",
   "metadata": {
    "collapsed": false,
    "jupyter": {
     "outputs_hidden": false
    }
   },
   "source": [
    "### Data Processing Functions\n",
    "\n",
    "These functions apply the various templates to turn the raw pokemon entries into a type dataset that we can train with."
   ]
  },
  {
   "cell_type": "code",
   "execution_count": 4,
   "metadata": {
    "ExecuteTime": {
     "end_time": "2024-06-29T17:04:21.588282770Z",
     "start_time": "2024-06-29T17:04:21.581041848Z"
    },
    "collapsed": false,
    "jupyter": {
     "outputs_hidden": false
    }
   },
   "outputs": [],
   "source": [
    "def dataset_gen():\n",
    "    \"\"\"This generator is useful to create a datatsets.Dataset object from a generator of pokemon names and types\"\"\"\n",
    "    for k,v in pokedex.items():\n",
    "        yield {'pokemon': v['name'], 'types': v['types']}\n",
    "\n",
    "def pokemon_to_sentence(template: str, pokemon: str, types: List[str]) -> str:\n",
    "    types = types.copy()\n",
    "    np.random.shuffle(types) # shuffling the primary and secondary type will hopefully increase diversity/model learning\n",
    "\n",
    "    for i in range(len(types)): # all types are uppercase, but we may as well randomly lowercase them too\n",
    "        if np.random.rand() > .5:\n",
    "            types[i] = types[i].lower()\n",
    "\n",
    "    if np.random.rand() > .5: # same as w/ the types\n",
    "        pokemon = pokemon.lower()\n",
    "\n",
    "    if '{type_1}' in template:\n",
    "        sentence = template.format(pokemon=pokemon, type_1=types[0], type_2=types[1])\n",
    "    elif '{type}' in template and len(types) == 2:\n",
    "        type_format = np.random.choice(DUAL_TYPE_FORMATS)\n",
    "        dual_types = type_format.format(type_1=types[0], type_2=types[1])\n",
    "\n",
    "        sentence = template.format(pokemon=pokemon, type=dual_types)\n",
    "    else:\n",
    "        sentence = template.format(pokemon=pokemon, type=types[0])\n",
    "\n",
    "    return sentence\n",
    "\n",
    "def pokemon_to_sentences(pokemon: str, types: List[str]) -> List[str]:\n",
    "    templates = TYPE_TEMPLATES.copy()\n",
    "\n",
    "    if len(types) == 2:\n",
    "        templates += DUAL_TYPE_TEMPLATES.copy()\n",
    "\n",
    "    # it's better to use unique templates if possible, but if we want to generate 50 examples/pokemon, we'll have to repeat some stuff\n",
    "    replace = TYPE_SENTENCES_PER_POKEMON > len(templates)\n",
    "    chosen_templates = np.random.choice(templates, TYPE_SENTENCES_PER_POKEMON, replace=replace)\n",
    "\n",
    "    type_sentences = []\n",
    "    for template in chosen_templates:\n",
    "        type_sentences.append(pokemon_to_sentence(template, pokemon, types))\n",
    "\n",
    "    return type_sentences\n",
    "\n",
    "def generate_type_sentences(examples):\n",
    "    \"\"\"\n",
    "    Takes a pokemon name and type and randomly turns it into a string based on the above templates.\n",
    "    Use with datasets.map with batched=True b/c we increase the # of elements in the dataset\n",
    "    \"\"\"\n",
    "\n",
    "    all_type_sentences = []\n",
    "\n",
    "    for pokemon, types in zip(examples['pokemon'], examples['types']):\n",
    "        type_sentences = pokemon_to_sentences(pokemon, types)\n",
    "\n",
    "        all_type_sentences.extend(type_sentences)\n",
    "\n",
    "    return {'text': all_type_sentences}"
   ]
  },
  {
   "cell_type": "markdown",
   "metadata": {
    "collapsed": false,
    "jupyter": {
     "outputs_hidden": false
    }
   },
   "source": [
    "These functions are like the type dataset ones, but they are specifically geared toward question/answering"
   ]
  },
  {
   "cell_type": "code",
   "execution_count": 5,
   "metadata": {
    "ExecuteTime": {
     "end_time": "2024-06-29T17:04:21.591893532Z",
     "start_time": "2024-06-29T17:04:21.585019297Z"
    },
    "collapsed": false,
    "jupyter": {
     "outputs_hidden": false
    }
   },
   "outputs": [],
   "source": [
    "def pokemon_to_qa_pair(question_template, pokemon: str, types: List[str]) -> Tuple[str, str]:\n",
    "    types = types.copy()\n",
    "    answer_templates = ANSWER_TEMPLATES.copy()\n",
    "\n",
    "    for i in range(len(types)): # all types are uppercase, but we may as well randomly lowercase them too\n",
    "        if np.random.rand() > .5:\n",
    "            types[i] = types[i].lower()\n",
    "\n",
    "    if np.random.rand() > .5: # same as w/ the types\n",
    "        pokemon = pokemon.lower()\n",
    "\n",
    "    if len(types) == 2:\n",
    "        answer_templates += DUAL_TYPE_ANSWER_TEMPLATES.copy()\n",
    "\n",
    "        question_dual_type_format = np.random.choice(DUAL_TYPE_FORMATS)\n",
    "        answer_dual_type_format = np.random.choice(DUAL_TYPE_FORMATS)\n",
    "\n",
    "\n",
    "        # python fact I didn't know: if the template doesn't expect a key (type_1 or type depending on the template), it just won't be included in the args!\n",
    "        question_format_data = {\n",
    "            'pokemon': pokemon,\n",
    "            'type': question_dual_type_format.format(type_1=types[0], type_2=types[1]),\n",
    "            'type_1': types[0],\n",
    "            'type_2': types[1]\n",
    "        }\n",
    "\n",
    "        question = question_template.format(**question_format_data)\n",
    "\n",
    "        answer_template = np.random.choice(answer_templates)\n",
    "\n",
    "        np.random.shuffle(types)\n",
    "        answer_format_data = {\n",
    "            'pokemon': pokemon,\n",
    "            'type': answer_dual_type_format.format(type_1=types[0], type_2=types[1]),\n",
    "            'type_1': types[0],\n",
    "            'type_2': types[1]\n",
    "        }\n",
    "\n",
    "        answer = answer_template.format(**answer_format_data)\n",
    "    else:\n",
    "\n",
    "        format_data = {'pokemon': pokemon, 'type': types[0]}\n",
    "\n",
    "        question = question_template.format(**format_data)\n",
    "\n",
    "        answer_template = np.random.choice(answer_templates)\n",
    "\n",
    "        answer = answer_template.format(**format_data)\n",
    "\n",
    "    return question, answer\n",
    "\n",
    "\n",
    "def pokemon_to_question_answers(pokemon: str, types: List[str]) -> Tuple[List[str], List[str]]:\n",
    "    replace = QUESTIONS_PER_POKEMON > len(QUESTION_TEMPLATES)\n",
    "\n",
    "    question_templates = np.random.choice(QUESTION_TEMPLATES, QUESTIONS_PER_POKEMON, replace=replace)\n",
    "\n",
    "    questions = []\n",
    "    answers = []\n",
    "\n",
    "    for template in question_templates:\n",
    "        question, answer = pokemon_to_qa_pair(template, pokemon, types)\n",
    "\n",
    "        questions.append(question)\n",
    "        answers.append(answer)\n",
    "\n",
    "    return questions, answers\n",
    "\n",
    "\n",
    "def generate_qa_pairs(examples):\n",
    "    \"\"\"\n",
    "    Basically the same as generate_type_sentneces, but each element in the dataset is a list of questions and answers\n",
    "    since the model may do poorly depending on the randomly chosen prompt format (even though the data is the same).\n",
    "    \"\"\"\n",
    "\n",
    "    all_questions = []\n",
    "    all_answers = []\n",
    "\n",
    "    for pokemon, types in zip(examples['pokemon'], examples['types']):\n",
    "        questions, answers = pokemon_to_question_answers(pokemon, types)\n",
    "\n",
    "        all_questions.append(questions)\n",
    "        all_answers.append(answers)\n",
    "\n",
    "    return {'questions': all_questions, 'answers': all_answers}\n"
   ]
  },
  {
   "cell_type": "markdown",
   "metadata": {
    "collapsed": false,
    "jupyter": {
     "outputs_hidden": false
    }
   },
   "source": [
    "### Type-Sentence Dataset"
   ]
  },
  {
   "cell_type": "code",
   "execution_count": 6,
   "metadata": {
    "ExecuteTime": {
     "end_time": "2024-06-29T17:03:13.313861701Z",
     "start_time": "2024-06-29T17:03:13.035187005Z"
    },
    "collapsed": false,
    "jupyter": {
     "outputs_hidden": false
    }
   },
   "outputs": [
    {
     "name": "stderr",
     "output_type": "stream",
     "text": [
      "Using custom data configuration default-6753c726323efdf1\n",
      "Found cached dataset generator (C:/Users/jorda/.cache/huggingface/datasets/generator/default-6753c726323efdf1/0.0.0)\n"
     ]
    }
   ],
   "source": [
    "type_dataset = Dataset.from_generator(dataset_gen)"
   ]
  },
  {
   "cell_type": "code",
   "execution_count": 7,
   "metadata": {
    "ExecuteTime": {
     "end_time": "2024-06-29T17:03:13.360452074Z",
     "start_time": "2024-06-29T17:03:13.315762369Z"
    },
    "collapsed": false,
    "jupyter": {
     "outputs_hidden": false
    }
   },
   "outputs": [
    {
     "data": {
      "text/plain": "{'pokemon': 'Bulbasaur', 'types': ['Grass', 'Poison']}"
     },
     "execution_count": 7,
     "metadata": {},
     "output_type": "execute_result"
    }
   ],
   "source": [
    "type_dataset[0]"
   ]
  },
  {
   "cell_type": "code",
   "execution_count": 8,
   "metadata": {
    "ExecuteTime": {
     "end_time": "2024-06-29T17:03:13.360920984Z",
     "start_time": "2024-06-29T17:03:13.360019166Z"
    },
    "collapsed": false,
    "jupyter": {
     "outputs_hidden": false
    }
   },
   "outputs": [
    {
     "data": {
      "text/plain": "[\"As a pokemon with two types, bulbasaur's 1st type is poison and it's 2nd type is Grass\",\n 'In the world of Pokemon, bulbasaur is a poison, Grass type creature',\n 'bulbasaur is a representative of the grass/poison type',\n 'The Pokemon known as Bulbasaur belongs to the grass and poison type.',\n \"Bulbasaur's primary typing is grass and it's secondary typing is poison\",\n 'Bulbasaur is a grass, poison Pokemon',\n 'Bulbasaur is known as a poison, grass type Pokemon',\n 'Pokedex data states Bulbasaur as a grass, poison-type Pokemon!',\n 'The Pokemon bulbasaur is of poison and grass types.',\n 'bulbasaur is a dual poison/grass Pokemon']"
     },
     "execution_count": 8,
     "metadata": {},
     "output_type": "execute_result"
    }
   ],
   "source": [
    "pokemon_to_sentences('Bulbasaur', ['Grass', 'Poison'])"
   ]
  },
  {
   "cell_type": "code",
   "execution_count": 10,
   "metadata": {
    "ExecuteTime": {
     "end_time": "2024-06-29T17:03:13.411892030Z",
     "start_time": "2024-06-29T17:03:13.360645135Z"
    },
    "collapsed": false,
    "jupyter": {
     "outputs_hidden": false
    }
   },
   "outputs": [
    {
     "name": "stderr",
     "output_type": "stream",
     "text": [
      "Loading cached processed dataset at C:\\Users\\jorda\\.cache\\huggingface\\datasets\\generator\\default-6753c726323efdf1\\0.0.0\\cache-833e28c8d1819686.arrow\n"
     ]
    }
   ],
   "source": [
    "type_sentence_dataset = type_dataset.map(generate_type_sentences, batched=True, batch_size=100, remove_columns=['pokemon', 'types'])"
   ]
  },
  {
   "cell_type": "code",
   "execution_count": 11,
   "metadata": {
    "ExecuteTime": {
     "end_time": "2024-06-29T17:03:13.459262123Z",
     "start_time": "2024-06-29T17:03:13.413145906Z"
    },
    "collapsed": false,
    "jupyter": {
     "outputs_hidden": false
    }
   },
   "outputs": [
    {
     "data": {
      "text/plain": "{'text': 'In the world of Pokemon, Arcanine-Hisui is a Fire and rock type creature'}"
     },
     "execution_count": 11,
     "metadata": {},
     "output_type": "execute_result"
    }
   ],
   "source": [
    "type_sentence_dataset[1000]"
   ]
  },
  {
   "cell_type": "markdown",
   "metadata": {
    "collapsed": false,
    "jupyter": {
     "outputs_hidden": false
    }
   },
   "source": [
    "### Question/Answer Dataset"
   ]
  },
  {
   "cell_type": "code",
   "execution_count": 12,
   "metadata": {
    "ExecuteTime": {
     "end_time": "2024-06-29T17:03:13.459745740Z",
     "start_time": "2024-06-29T17:03:13.458976805Z"
    },
    "collapsed": false,
    "jupyter": {
     "outputs_hidden": false
    }
   },
   "outputs": [
    {
     "data": {
      "text/plain": "(['Can you tell me the type of bulbasaur in the Pokemon universe?',\n  \"What is bulbasaur's type?\",\n  'Please explain, what type is Bulbasaur?',\n  \"bulbasaur's pokedex entry shows it as what type?\",\n  \"In the Pokemon games, what is Bulbasaur's type?\"],\n ['bulbasaur is a poison and grass pokemonpoison and grass-type.',\n  \"it's a dual grass/poison pokemon.\",\n  'It is a poison and grass Pokemon',\n  \"bulbasaur's type is poison and grass\",\n  'It is a poison, grass Pokemon'])"
     },
     "execution_count": 12,
     "metadata": {},
     "output_type": "execute_result"
    }
   ],
   "source": [
    "pokemon_to_question_answers('Bulbasaur', ['Grass', 'Poison'])"
   ]
  },
  {
   "cell_type": "code",
   "execution_count": 13,
   "metadata": {
    "ExecuteTime": {
     "end_time": "2024-06-29T17:03:13.546031965Z",
     "start_time": "2024-06-29T17:03:13.459472306Z"
    },
    "collapsed": false,
    "jupyter": {
     "outputs_hidden": false
    }
   },
   "outputs": [
    {
     "data": {
      "text/plain": "  0%|          | 0/15 [00:00<?, ?ba/s]",
      "application/vnd.jupyter.widget-view+json": {
       "version_major": 2,
       "version_minor": 0,
       "model_id": "1474497456a3448ca1b217165f7b7af1"
      }
     },
     "metadata": {},
     "output_type": "display_data"
    }
   ],
   "source": [
    "qa_pair_dataset = type_dataset.map(generate_qa_pairs, batched=True, batch_size=100,\n",
    "                                         remove_columns=['pokemon'])"
   ]
  },
  {
   "cell_type": "code",
   "execution_count": 20,
   "metadata": {
    "ExecuteTime": {
     "end_time": "2024-06-29T17:03:13.550973129Z",
     "start_time": "2024-06-29T17:03:13.547329881Z"
    },
    "collapsed": false,
    "jupyter": {
     "outputs_hidden": false
    }
   },
   "outputs": [
    {
     "data": {
      "text/plain": "{'types': ['fire'],\n 'questions': ['What is the type of charmeleon?',\n  \"charmeleon's pokedex entry shows it as what type?\",\n  \"What is Charmeleon's type?\",\n  'Please explain, what type is charmeleon?',\n  'Can you tell me the type of Charmeleon in the Pokemon universe?'],\n 'answers': [\"charmeleon's type is fire\",\n  'charmeleon is a fire pokemonfire-type.',\n  'It is a fire Pokemon',\n  'charmeleon has the type fire',\n  'It is a fire Pokemon']}"
     },
     "execution_count": 20,
     "metadata": {},
     "output_type": "execute_result"
    }
   ],
   "source": [
    "qa_pair_dataset[6]"
   ]
  },
  {
   "cell_type": "markdown",
   "metadata": {
    "collapsed": false,
    "jupyter": {
     "outputs_hidden": false
    }
   },
   "source": [
    "## Model\n",
    "\n",
    "Lets see how well it does in general"
   ]
  },
  {
   "cell_type": "code",
   "execution_count": 14,
   "metadata": {
    "ExecuteTime": {
     "end_time": "2024-06-29T17:03:16.264080470Z",
     "start_time": "2024-06-29T17:03:13.551218617Z"
    },
    "collapsed": false,
    "jupyter": {
     "outputs_hidden": false
    }
   },
   "outputs": [
    {
     "name": "stdout",
     "output_type": "stream",
     "text": [
      "🦥 Unsloth: Will patch your computer to enable 2x faster free finetuning.\n"
     ]
    }
   ],
   "source": [
    "import torch\n",
    "from unsloth import FastLanguageModel\n",
    "from transformers import AutoTokenizer"
   ]
  },
  {
   "cell_type": "code",
   "execution_count": 15,
   "metadata": {
    "collapsed": false,
    "jupyter": {
     "outputs_hidden": false
    }
   },
   "outputs": [
    {
     "name": "stderr",
     "output_type": "stream",
     "text": [
      "Special tokens have been added in the vocabulary, make sure the associated word embeddings are fine-tuned or trained.\n"
     ]
    },
    {
     "name": "stdout",
     "output_type": "stream",
     "text": [
      "==((====))==  Unsloth: Fast Mistral patching release 2024.6\n",
      "   \\\\   /|    GPU: NVIDIA GeForce RTX 4090. Max memory: 23.988 GB. Platform = Linux.\n",
      "O^O/ \\_/ \\    Pytorch: 2.2.1+cu121. CUDA = 8.9. CUDA Toolkit = 12.1.\n",
      "\\        /    Bfloat16 = TRUE. Xformers = 0.0.24. FA = False.\n",
      " \"-____-\"     Free Apache license: http://github.com/unslothai/unsloth\n"
     ]
    },
    {
     "data": {
      "application/vnd.jupyter.widget-view+json": {
       "model_id": "f03c6eda32374f52b25bfd883a9dff5a",
       "version_major": 2,
       "version_minor": 0
      },
      "text/plain": [
       "Loading checkpoint shards:   0%|          | 0/2 [00:00<?, ?it/s]"
      ]
     },
     "metadata": {},
     "output_type": "display_data"
    },
    {
     "name": "stderr",
     "output_type": "stream",
     "text": [
      "Special tokens have been added in the vocabulary, make sure the associated word embeddings are fine-tuned or trained.\n",
      "Special tokens have been added in the vocabulary, make sure the associated word embeddings are fine-tuned or trained.\n"
     ]
    }
   ],
   "source": [
    "tokenizer = AutoTokenizer.from_pretrained('unsloth/Phi-3-mini-4k-instruct') \n",
    "\n",
    "model, _ = FastLanguageModel.from_pretrained(\n",
    "    model_name = \"unsloth/Phi-3-mini-4k-instruct\", # YOUR MODEL YOU USED FOR TRAINING\n",
    "    max_seq_length = 256,\n",
    "    dtype = None,\n",
    "    load_in_4bit=False\n",
    ")"
   ]
  },
  {
   "cell_type": "code",
   "execution_count": 16,
   "metadata": {},
   "outputs": [],
   "source": [
    "FastLanguageModel.for_inference(model)"
   ]
  },
  {
   "cell_type": "code",
   "execution_count": 62,
   "metadata": {},
   "outputs": [],
   "source": [
    "messages = [{'role': 'user', 'content': qa_pair_dataset[1528]['question'][0]}]\n",
    "\n",
    "inputs = tokenizer.apply_chat_template(\n",
    "    messages,\n",
    "    tokenize = True,\n",
    "    add_generation_prompt = True, # Must add for generation\n",
    "    return_tensors = \"pt\",\n",
    ").to(\"cuda\")"
   ]
  },
  {
   "cell_type": "code",
   "execution_count": 63,
   "metadata": {},
   "outputs": [
    {
     "data": {
      "text/plain": [
       "[\"<s><|user|> sneasel-hisui's pokedex entry shows it as what type?<|end|><|assistant|> Sneasel (Nosepass) in Hisui's Pokédex is classified as an Ice-type Pokémon. This classification is consistent across various versions of the Pokémon games, including Hisui's Pokédex, which is a feature in the Pokémon Mystery Dun\"]"
      ]
     },
     "execution_count": 63,
     "metadata": {},
     "output_type": "execute_result"
    }
   ],
   "source": [
    "outputs = model.generate(input_ids = inputs, max_new_tokens = 64, use_cache = True)\n",
    "tokenizer.batch_decode(outputs)"
   ]
  }
 ],
 "metadata": {
  "kernelspec": {
   "display_name": "Python 3 (ipykernel)",
   "language": "python",
   "name": "python3"
  },
  "language_info": {
   "codemirror_mode": {
    "name": "ipython",
    "version": 3
   },
   "file_extension": ".py",
   "mimetype": "text/x-python",
   "name": "python",
   "nbconvert_exporter": "python",
   "pygments_lexer": "ipython3",
   "version": "3.10.13"
  }
 },
 "nbformat": 4,
 "nbformat_minor": 4
}
